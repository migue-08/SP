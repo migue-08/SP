{
 "cells": [
  {
   "cell_type": "code",
   "execution_count": 1,
   "id": "325e3fa2-35b2-4271-b94c-b716a56ad4b2",
   "metadata": {},
   "outputs": [],
   "source": [
    "# Load some libraries\n",
    "\n",
    "import numpy as np\n",
    "import pandas as pd\n",
    "import matplotlib.pyplot as plt\n",
    "import seaborn as sns"
   ]
  },
  {
   "cell_type": "code",
   "execution_count": 2,
   "id": "97d23235-3cc5-4055-b454-d6e430f7348f",
   "metadata": {},
   "outputs": [
    {
     "data": {
      "text/html": [
       "<div>\n",
       "<style scoped>\n",
       "    .dataframe tbody tr th:only-of-type {\n",
       "        vertical-align: middle;\n",
       "    }\n",
       "\n",
       "    .dataframe tbody tr th {\n",
       "        vertical-align: top;\n",
       "    }\n",
       "\n",
       "    .dataframe thead th {\n",
       "        text-align: right;\n",
       "    }\n",
       "</style>\n",
       "<table border=\"1\" class=\"dataframe\">\n",
       "  <thead>\n",
       "    <tr style=\"text-align: right;\">\n",
       "      <th></th>\n",
       "      <th>ID Cliente</th>\n",
       "      <th>Cliente</th>\n",
       "      <th>Salario</th>\n",
       "    </tr>\n",
       "  </thead>\n",
       "  <tbody>\n",
       "    <tr>\n",
       "      <th>0</th>\n",
       "      <td>9179</td>\n",
       "      <td>PACHECO CORTES EDUARDO</td>\n",
       "      <td>438213635</td>\n",
       "    </tr>\n",
       "    <tr>\n",
       "      <th>1</th>\n",
       "      <td>3715</td>\n",
       "      <td>CABRALES MARTINEZ ORLANDO JOSE</td>\n",
       "      <td>135281864</td>\n",
       "    </tr>\n",
       "    <tr>\n",
       "      <th>2</th>\n",
       "      <td>8933</td>\n",
       "      <td>MAYORGA CASTRO ERNESTO</td>\n",
       "      <td>147437731</td>\n",
       "    </tr>\n",
       "    <tr>\n",
       "      <th>3</th>\n",
       "      <td>10966</td>\n",
       "      <td>MORENO TORRES MANUEL GUSTAVO</td>\n",
       "      <td>96714590</td>\n",
       "    </tr>\n",
       "    <tr>\n",
       "      <th>4</th>\n",
       "      <td>67606</td>\n",
       "      <td>GOMEZ ACEVEDO CARLOS AUGUSTO</td>\n",
       "      <td>14014652</td>\n",
       "    </tr>\n",
       "  </tbody>\n",
       "</table>\n",
       "</div>"
      ],
      "text/plain": [
       "   ID Cliente                         Cliente    Salario\n",
       "0        9179         PACHECO CORTES EDUARDO   438213635\n",
       "1        3715  CABRALES MARTINEZ ORLANDO JOSE  135281864\n",
       "2        8933         MAYORGA CASTRO ERNESTO   147437731\n",
       "3       10966    MORENO TORRES MANUEL GUSTAVO   96714590\n",
       "4       67606    GOMEZ ACEVEDO CARLOS AUGUSTO   14014652"
      ]
     },
     "execution_count": 2,
     "metadata": {},
     "output_type": "execute_result"
    }
   ],
   "source": [
    "# Let's load the data\n",
    "\n",
    "df = pd.read_excel('Miguel_Martinez_Prueba.xlsx',\n",
    "                   sheet_name='EJERCICIO 3',\n",
    "                   header=0, usecols='A:C')\n",
    "df.head()"
   ]
  },
  {
   "cell_type": "markdown",
   "id": "8e8ea300-f436-4630-ab1e-bbf28ba4aa94",
   "metadata": {},
   "source": [
    "In this code, we are assigning the salary column into four bins:\n",
    "\n",
    "- If Salary < 50,000,000                -> It's category 'baja' \n",
    "- If 50,000,000 < Salary < 100,000,000  -> It's category 'media' \n",
    "- If 100,000,000 < Salary < 300,000,000 -> It's category 'alta' \n",
    "- If Salary > 300,000,000               -> It's category 'vip' \n"
   ]
  },
  {
   "cell_type": "code",
   "execution_count": 3,
   "id": "3dc96e6f-555d-49c8-85a3-9386bb76ab93",
   "metadata": {},
   "outputs": [
    {
     "data": {
      "text/html": [
       "<div>\n",
       "<style scoped>\n",
       "    .dataframe tbody tr th:only-of-type {\n",
       "        vertical-align: middle;\n",
       "    }\n",
       "\n",
       "    .dataframe tbody tr th {\n",
       "        vertical-align: top;\n",
       "    }\n",
       "\n",
       "    .dataframe thead th {\n",
       "        text-align: right;\n",
       "    }\n",
       "</style>\n",
       "<table border=\"1\" class=\"dataframe\">\n",
       "  <thead>\n",
       "    <tr style=\"text-align: right;\">\n",
       "      <th></th>\n",
       "      <th>ID Cliente</th>\n",
       "      <th>Cliente</th>\n",
       "      <th>Salario</th>\n",
       "      <th>categoria_renta</th>\n",
       "    </tr>\n",
       "  </thead>\n",
       "  <tbody>\n",
       "    <tr>\n",
       "      <th>0</th>\n",
       "      <td>9179</td>\n",
       "      <td>PACHECO CORTES EDUARDO</td>\n",
       "      <td>438213635</td>\n",
       "      <td>vip</td>\n",
       "    </tr>\n",
       "    <tr>\n",
       "      <th>1</th>\n",
       "      <td>3715</td>\n",
       "      <td>CABRALES MARTINEZ ORLANDO JOSE</td>\n",
       "      <td>135281864</td>\n",
       "      <td>alta</td>\n",
       "    </tr>\n",
       "    <tr>\n",
       "      <th>2</th>\n",
       "      <td>8933</td>\n",
       "      <td>MAYORGA CASTRO ERNESTO</td>\n",
       "      <td>147437731</td>\n",
       "      <td>alta</td>\n",
       "    </tr>\n",
       "    <tr>\n",
       "      <th>3</th>\n",
       "      <td>10966</td>\n",
       "      <td>MORENO TORRES MANUEL GUSTAVO</td>\n",
       "      <td>96714590</td>\n",
       "      <td>media</td>\n",
       "    </tr>\n",
       "    <tr>\n",
       "      <th>4</th>\n",
       "      <td>67606</td>\n",
       "      <td>GOMEZ ACEVEDO CARLOS AUGUSTO</td>\n",
       "      <td>14014652</td>\n",
       "      <td>baja</td>\n",
       "    </tr>\n",
       "  </tbody>\n",
       "</table>\n",
       "</div>"
      ],
      "text/plain": [
       "   ID Cliente                         Cliente    Salario categoria_renta\n",
       "0        9179         PACHECO CORTES EDUARDO   438213635             vip\n",
       "1        3715  CABRALES MARTINEZ ORLANDO JOSE  135281864            alta\n",
       "2        8933         MAYORGA CASTRO ERNESTO   147437731            alta\n",
       "3       10966    MORENO TORRES MANUEL GUSTAVO   96714590           media\n",
       "4       67606    GOMEZ ACEVEDO CARLOS AUGUSTO   14014652            baja"
      ]
     },
     "execution_count": 3,
     "metadata": {},
     "output_type": "execute_result"
    }
   ],
   "source": [
    "bins = [100000, 50000000, 100000000, 300000000, 500000000]\n",
    "group_names = ['baja', 'media', 'alta', 'vip']\n",
    "\n",
    "df['categoria_renta'] = pd.cut(df['Salario'], bins=bins, labels=group_names)\n",
    "df.head()"
   ]
  },
  {
   "cell_type": "code",
   "execution_count": 4,
   "id": "14253068-bbd3-4c12-bed5-caaf9b2c1a6b",
   "metadata": {},
   "outputs": [
    {
     "data": {
      "text/plain": [
       "categoria_renta\n",
       "alta     14409\n",
       "vip      13992\n",
       "media     3654\n",
       "baja      3653\n",
       "Name: count, dtype: int64"
      ]
     },
     "execution_count": 4,
     "metadata": {},
     "output_type": "execute_result"
    }
   ],
   "source": [
    "# Counting the number of clients in each category\n",
    "\n",
    "counts = df['categoria_renta'].value_counts()\n",
    "\n",
    "counts"
   ]
  },
  {
   "cell_type": "code",
   "execution_count": 5,
   "id": "52601602-6038-4ef5-a522-595950fc9969",
   "metadata": {},
   "outputs": [
    {
     "data": {
      "image/png": "[encoded data removed]",
      "text/plain": [
       "<Figure size 640x480 with 1 Axes>"
      ]
     },
     "metadata": {},
     "output_type": "display_data"
    }
   ],
   "source": [
    "# Graph\n",
    "\n",
    "sns.set_style('whitegrid')\n",
    "sns.barplot(counts)\n",
    "plt.title('Numero de clientes por categoría');"
   ]
  }
 ],
 "metadata": {
  "kernelspec": {
   "display_name": "Python 3 (ipykernel)",
   "language": "python",
   "name": "python3"
  },
  "language_info": {
   "codemirror_mode": {
    "name": "ipython",
    "version": 3
   },
   "file_extension": ".py",
   "mimetype": "text/x-python",
   "name": "python",
   "nbconvert_exporter": "python",
   "pygments_lexer": "ipython3",
   "version": "3.13.2"
  }
 },
 "nbformat": 4,
 "nbformat_minor": 5
}
